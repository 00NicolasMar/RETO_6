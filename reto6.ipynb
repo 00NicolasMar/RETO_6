{
  "nbformat": 4,
  "nbformat_minor": 0,
  "metadata": {
    "colab": {
      "provenance": []
    },
    "kernelspec": {
      "name": "python3",
      "display_name": "Python 3"
    },
    "language_info": {
      "name": "python"
    }
  },
  "cells": [
    {
      "cell_type": "markdown",
      "source": [
        "Imprimir un listado con los números del 1 al 100 cada uno con su respectivo cuadrado."
      ],
      "metadata": {
        "id": "AIBnKsXLxdr1"
      }
    },
    {
      "cell_type": "code",
      "execution_count": null,
      "metadata": {
        "id": "-pfKDTTz_RRm"
      },
      "outputs": [],
      "source": [
        "i = int = 0\n",
        "\n",
        "while (i < 101):\n",
        "  i += 1\n",
        "  potencia = i ** 2\n",
        "  if i == 101:\n",
        "    break\n",
        "  print(i, potencia)"
      ]
    },
    {
      "cell_type": "markdown",
      "source": [
        "Imprimir un listado con los números impares desde 1 hasta 999 y seguidamente otro listado con los números pares desde 2 hasta 1000."
      ],
      "metadata": {
        "id": "uDFcKO3Lxhi8"
      }
    },
    {
      "cell_type": "code",
      "source": [
        "numero = 1\n",
        "while numero <= 999:\n",
        "    print(\"números impares: \" + str(numero))\n",
        "    numero += 2\n",
        "\n",
        "numero = 2\n",
        "while numero <= 1000:\n",
        "    print(\"números pares: \" + str(numero))\n",
        "    numero += 2\n"
      ],
      "metadata": {
        "id": "5bwL-_cXDHrU"
      },
      "execution_count": null,
      "outputs": []
    },
    {
      "cell_type": "markdown",
      "source": [
        "Imprimir los números pares en forma descendente hasta 2 que son menores o iguales a un número natural n ≥ 2 dado"
      ],
      "metadata": {
        "id": "camRY7TpxkDc"
      }
    },
    {
      "cell_type": "code",
      "source": [
        "i = int(input(\"Ingrese un número natural i mayor o igual que 2: \")) # se realiza el ingreso del dato\n",
        "if i >= 2: # se verifica que el dato cumpla la condicion de ser mayor o igual a 2\n",
        "    print(f\"Números pares descendentes desde {i} hasta 2:\") # esta impresion nos da una claridad a la hora de finalizar todo el programa\n",
        "    while i >= 2:\n",
        "        if i % 2 == 0: # aqui se define que siempre y cuando \"i\" sea mayor o igual a 2 se realice el modulo entre 2 para calcular que el numero sea par\n",
        "            print(i, end=\", \") # aqui se realiza la impresion del resultado separada por comas\n",
        "        i -= 1\n",
        "else:\n",
        "    print(\"El número ingresado no es válido.\") # esta es una impresion realizada en el caso en el cual el numero que ingresemos no cumpla las condiciones"
      ],
      "metadata": {
        "id": "C9Ecy6TIGyRN",
        "outputId": "ed69387a-d0b9-4be3-ca64-c61a930c4a0b",
        "colab": {
          "base_uri": "https://localhost:8080/"
        }
      },
      "execution_count": null,
      "outputs": [
        {
          "output_type": "stream",
          "name": "stdout",
          "text": [
            "Ingrese un número natural i mayor o igual que 2: 4\n",
            "Números pares descendentes desde 4 hasta 2:\n",
            "4, 2, "
          ]
        }
      ]
    },
    {
      "cell_type": "markdown",
      "source": [
        "Imprimir el factorial de un número natural n dado."
      ],
      "metadata": {
        "id": "jzq-c7qBtNeD"
      }
    },
    {
      "cell_type": "code",
      "source": [
        "i = int(input(\"Ingrese un número natural: \")) # aqui se establece el ingreso del dato\n",
        "if i >= 0: # se verifica que dicho valor \"i\" sea mayor o igual a 0\n",
        "    fact = 1\n",
        "    cont = 1\n",
        "    while cont <= i: # aqui se realiza el calculo factorial acumulado a partir de la variable \"fact\" que significa factorial solo que recorte la palabra un poco\n",
        "        fact *= cont\n",
        "        cont += 1\n",
        "\n",
        "    print(f\"El factorial de {i} es: {fact}\")\n",
        "else:\n",
        "    print(\"El número no es válido:\")"
      ],
      "metadata": {
        "id": "qFl6KfsHOCpv",
        "outputId": "22a8bfe1-c772-4798-8e7a-05d06950a369",
        "colab": {
          "base_uri": "https://localhost:8080/"
        }
      },
      "execution_count": 11,
      "outputs": [
        {
          "output_type": "stream",
          "name": "stdout",
          "text": [
            "Ingrese un número natural: 15\n",
            "El factorial de 15 es: 1307674368000\n"
          ]
        }
      ]
    },
    {
      "cell_type": "markdown",
      "source": [
        "Implementar un programa que ingrese un número de 2 a 50 y muestre sus divisores.\n"
      ],
      "metadata": {
        "id": "12yLFZ0cmnAh"
      }
    },
    {
      "cell_type": "code",
      "source": [
        "def divisores():\n",
        "    n = input(\"Ingresa un número entre 2 y 50: \") # aqui se establece el ingreso del dato\n",
        "\n",
        "    if n.isdigit(): # aqui se verifica si el numero ingresado \"n\" es positivo (esta es una validacion extra profe asi que pues no esta de mas)\n",
        "        n = int(n)\n",
        "        if 2 <= n <= 50: # aqui confirmamos que \"n\" este en el rango de 2 a 50\n",
        "            divisor = [i for i in range(1, n + 1) if n % i == 0] # aqui se plantea la operacion para calcular los divisores de el numero n por medio de un modulo\n",
        "            print(f\"Los divisores del numero {n} son: {divisor}\") # se imprimen los divisores\n",
        "        else:\n",
        "            print(\"El número no es valido.\")\n",
        "    else:\n",
        "        print(\"ingresa un número válido.\")\n",
        "divisores() # termina la funcion"
      ],
      "metadata": {
        "id": "IcJRM-6RJxg7",
        "colab": {
          "base_uri": "https://localhost:8080/"
        },
        "outputId": "2742f594-745f-4436-8133-1aa2ba4ac57d"
      },
      "execution_count": 9,
      "outputs": [
        {
          "output_type": "stream",
          "name": "stdout",
          "text": [
            "Ingresa un número entre 2 y 50: 55\n",
            "El número no es valido.\n"
          ]
        }
      ]
    },
    {
      "cell_type": "markdown",
      "source": [
        "Implementar el algoritmo que muestre los números primos del 1 al 100. Nota: use funciones"
      ],
      "metadata": {
        "id": "4lt2CIburLSx"
      }
    },
    {
      "cell_type": "code",
      "source": [
        "def es_primo(n): # se toma a n como argumento con el fin de verificar si es primo\n",
        "    if n < 2: # aqui se verifica si n es mayor o menor que dos, dandonos falso en el caso de que n sea menor que 2\n",
        "        return False\n",
        "    for i in range(2, int(n**0.5) + 1): # aqui se verifica si n es divisible por algun numero en el rango 2 hasta la raiz cuadrada de n, (recuerde si un número n no tiene divisores menores o iguales a raiz de n, es primo). Esto lo establecemos para reducir iteraciones\n",
        "        if n % i == 0:\n",
        "            return False\n",
        "    return True\n",
        "def primos(rango_in, rango_fin):\n",
        "    for i in range(rango_in, rango_fin + 1): # se establece el rango de 1 a 101, (recuerde que es 101 ya que es un intervalo semi abierto)\n",
        "        if es_primo(i): # aqui se abre un condicional \"if\" si se cumplen las condiciones\n",
        "            print(i, end=\" \") # imprime los primos separados por espacios\n",
        "primos(1, 100) # es el llamado final a la funcion (algo asi como el cierre de todo el programa)"
      ],
      "metadata": {
        "colab": {
          "base_uri": "https://localhost:8080/"
        },
        "id": "r4AyG1hrrOan",
        "outputId": "685b9daa-2b74-4414-f257-71e4dae3e5c5"
      },
      "execution_count": 19,
      "outputs": [
        {
          "output_type": "stream",
          "name": "stdout",
          "text": [
            "2 3 5 7 11 13 17 19 23 29 31 37 41 43 47 53 59 61 67 71 73 79 83 89 97 "
          ]
        }
      ]
    }
  ]
}